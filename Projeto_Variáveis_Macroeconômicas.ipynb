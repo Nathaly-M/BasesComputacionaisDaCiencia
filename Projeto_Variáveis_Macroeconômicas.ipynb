{
  "nbformat": 4,
  "nbformat_minor": 0,
  "metadata": {
    "colab": {
      "provenance": [],
      "collapsed_sections": [
        "JqEL2G2jDB0C",
        "C5IRYHtwQOrt"
      ],
      "authorship_tag": "ABX9TyOF4nN4QJR8LIqohQNS7+em",
      "include_colab_link": true
    },
    "kernelspec": {
      "name": "python3",
      "display_name": "Python 3"
    }
  },
  "cells": [
    {
      "cell_type": "markdown",
      "metadata": {
        "id": "view-in-github",
        "colab_type": "text"
      },
      "source": [
        "<a href=\"https://colab.research.google.com/github/Nathaly-M/BasesComputacionaisDaCiencia/blob/main/Projeto_Vari%C3%A1veis_Macroecon%C3%B4micas.ipynb\" target=\"_parent\"><img src=\"https://colab.research.google.com/assets/colab-badge.svg\" alt=\"Open In Colab\"/></a>"
      ]
    },
    {
      "cell_type": "markdown",
      "metadata": {
        "id": "IIEqBDjuAcEC"
      },
      "source": [
        "# ***Variáveis Macroeconômicas***\n",
        "\n",
        "*   Preços de Alimentos\n",
        "*   Salário e Renda\n",
        "---\n",
        "\n",
        "\n"
      ]
    },
    {
      "cell_type": "markdown",
      "metadata": {
        "id": "gsEk2mrcET2R"
      },
      "source": [
        "# **Apresentação**"
      ]
    },
    {
      "cell_type": "markdown",
      "metadata": {
        "id": "cuHotLBMF5HB"
      },
      "source": [
        "No presente projeto abordaremos variáveis macroeconômicas que influênciam diretamente a vida diária dos cidadãos, principalmete do estado de São Paulo, que será o estado que estaremos analisando a base de dados.\n",
        "\n",
        "Focaremos nos anos de 1990 a 2000 onde analisaremos os dados de cada variável individualmente e também os dados num todo.\n",
        "\n",
        "Abordaremos o valor médio mensalmente no atacado do arroz longo fino agulinha, o valor médio mensalmente no atacado do óleo de soja refinado e por fim o valor do salário mínimo real no nosso país também numa visão mensal, além de que levaremos em consideracão a inflação que ocorreu entre 1990 a 1999 e os acréscimos ou decrécimos que ocorreram no valor do arroz longo fino agulinha, no valor do óleo de soja refinado e no valor do salário mínimo real."
      ]
    },
    {
      "cell_type": "markdown",
      "metadata": {
        "id": "0Trb9DXobG7p"
      },
      "source": [
        "# **Motivação**"
      ]
    },
    {
      "cell_type": "markdown",
      "metadata": {
        "id": "osN4uFZ0bLMO"
      },
      "source": [
        "Criei três perguntas motivadores para guiar meu projeto:\n",
        "\n",
        "- Pergunta motivadora para a análise variável 1 X variável 2\n",
        "\n",
        "Como a inflação de 1990 a 1999 influenciou o valor do Arroz – Longo Fino Agulinha e no valor do Óleo de Soja – Refinado?\n",
        "\n",
        "- Pergunta motivadora para a análise variável 2 X variável 3\n",
        "\n",
        "Relação entre o acréscimo/decréscimo no valor do Salário Mínimo Real e no valor do Óleo de Soja – Refinado. Foram diretamente ou inversamente proporcionais? Os valores que acresceram/decresceram, comparando e analisando ambas variáveis simultaneamente, foram muito diferentes, ou seja, ficaram muitos dispersos?\n",
        "\n",
        "- Pergunta motivadora para a análise variável 1 X variável 3\n",
        "\n",
        "Relação entre o acréscimo/decréscimo no valor do Salário Mínimo Real e no valor do Arroz – Longo Fino Agulinha. Foram diretamente ou inversamente proporcionais? Os valores que acresceram/decresceram, comparando e analisando ambas variáveis simultaneamente, foram muito diferentes, ou seja, ficaram muitos dispersos?\n",
        "\n",
        "---\n",
        "\n",
        "Mas o que mais me engajou e me incentivou a escolher tais variáveis foi pensar na justiça nos valores das três variávies; será que o salário mínimo real acompanhou os acréscimos ou decrécimos nos valores dos alimentos, para ser algo justo para todos, princilpamnete para o cidadão do estado de São Paulo?\n",
        "\n",
        "Então vamos descobrir analisando nossos dados:"
      ]
    },
    {
      "cell_type": "markdown",
      "metadata": {
        "id": "Cak-XzbFUnGZ"
      },
      "source": [
        "# **Fontes dos Dados**\n",
        "\n"
      ]
    },
    {
      "cell_type": "markdown",
      "metadata": {
        "id": "cb2cm57LWeHk"
      },
      "source": [
        "- ### **Preço médio no atacado: arroz longo fino agulhinha (30 kg - SP)**\n",
        "\n",
        "**Frequência:** Mensal de 1990.01 até 2000.12\n",
        "\n",
        "**Fonte:** Companhia Nacional de Abastecimento, Indicadores Econômicos (Conab/IE)\n",
        "\n",
        "**Unidade:** R$\n",
        "\n",
        "**Comentário:** Preço médio - atacado - arroz - longo fino agulhinha - 30 kg - SP. Obs.: Preço médio mensal no atacado praticado no estado de São Paulo. Série descontinuada pela fonte.\n",
        "\n",
        "**Atualizado em:** 11/10/2018"
      ]
    },
    {
      "cell_type": "markdown",
      "metadata": {
        "id": "IX4GsF2AW4eR"
      },
      "source": [
        "- ### **Preço médio no atacado: óleo de soja refinado (20 latas - SP)**\n",
        "\n",
        "**Frequência:** Mensal de 1990.01 até 2000.12\n",
        "\n",
        "**Fonte:** Companhia Nacional de Abastecimento, Indicadores Econômicos (Conab/IE)\n",
        "\n",
        "**Unidade:** R$\n",
        "\n",
        "**Comentário:** Série descontinuada pela fonte.\n",
        "\n",
        "**Atualizado em:** 19/08/2003"
      ]
    },
    {
      "cell_type": "markdown",
      "metadata": {
        "id": "X1TuJ45qU0Hx"
      },
      "source": [
        "- ### **Salário mínimo real**\n",
        "\n",
        "**Frequência:** Mensal de 1990.01 até 2000.12\n",
        "\n",
        "**Fonte:** Instituto de Pesquisa Econômica Aplicada\n",
        "\n",
        "**Unidade:** R$ (do último mês)\n",
        "\n",
        "**Comentário:** O Salário mínimo nominal é o menor salário definido por lei para remuneração do trabalhador brasileiro. O salário minimo real é o valor do salário mínimo nominal abatido o percentual de inflação do mês, o qual é medido através de diferentes índices de preço. O salário mínimo urbano foi instituído no Brasil por decreto-lei do presidente Getúlio Vargas, durante a ditadura do Estado Novo, e começou a vigorar em julho de 1940, com valores diferenciados entre estados e sub-regiões. Em 1943, foi incorporado à Consolidação das Leis do Trabalho (CLT) e, em 1963, foi estendido ao campo por meio do Estatuto do Trabalhador Rural. Foi nacionalmente unificado em maio de 1984, mas, desde 2000, a Lei Complementar 103 permite que os estados fixem pisos estaduais superiores ao mínimo nacional. Os dados desta série para o período em que a legislação federal definia faixas diversificadas referem-se sempre ao maior salário mínimo vigente no país.\n",
        "\n",
        "**Atualizado em:** 06/11/2020"
      ]
    },
    {
      "cell_type": "markdown",
      "metadata": {
        "id": "IKv832O6Ys33"
      },
      "source": [
        "# **Importando Bibliotecas**"
      ]
    },
    {
      "cell_type": "code",
      "metadata": {
        "id": "vYzBFznUZEMQ"
      },
      "source": [
        "import pandas as pd\n",
        "import numpy as np\n",
        "import matplotlib.pyplot as plt\n",
        "%matplotlib inline"
      ],
      "execution_count": null,
      "outputs": []
    },
    {
      "cell_type": "markdown",
      "metadata": {
        "id": "zjEjCU_RAlZT"
      },
      "source": [
        "# **Variável 1**\n",
        "\n",
        "Preço médio - atacado - arroz - longo fino agulhinha - 30 kg - SP - R$ - Companhia Nacional de Abastecimento, Indicadores Econômicos (Conab/IE) - DEPAE12_ATARAG12\n"
      ]
    },
    {
      "cell_type": "markdown",
      "metadata": {
        "id": "8caeSI6N78Bc"
      },
      "source": [
        "- **Filtrando Dados**"
      ]
    },
    {
      "cell_type": "code",
      "metadata": {
        "colab": {
          "base_uri": "https://localhost:8080/",
          "height": 419
        },
        "id": "xJz5_MdMCXN8",
        "outputId": "2c2dfb21-a2ae-4d45-de84-4e29ab61ff39"
      },
      "source": [
        "dfGeral = pd.read_csv(\"/content/ipeadata[23-11-2020-04-13].csv\", sep = \"\\t\")\n",
        "df1 = dfGeral[[\"Data\", \"Preço médio - atacado - arroz - longo fino agulhinha - 30 kg - SP - R$\"]]\n",
        "df1"
      ],
      "execution_count": null,
      "outputs": [
        {
          "output_type": "execute_result",
          "data": {
            "text/html": [
              "<div>\n",
              "<style scoped>\n",
              "    .dataframe tbody tr th:only-of-type {\n",
              "        vertical-align: middle;\n",
              "    }\n",
              "\n",
              "    .dataframe tbody tr th {\n",
              "        vertical-align: top;\n",
              "    }\n",
              "\n",
              "    .dataframe thead th {\n",
              "        text-align: right;\n",
              "    }\n",
              "</style>\n",
              "<table border=\"1\" class=\"dataframe\">\n",
              "  <thead>\n",
              "    <tr style=\"text-align: right;\">\n",
              "      <th></th>\n",
              "      <th>Data</th>\n",
              "      <th>Preço médio - atacado - arroz - longo fino agulhinha - 30 kg - SP - R$</th>\n",
              "    </tr>\n",
              "  </thead>\n",
              "  <tbody>\n",
              "    <tr>\n",
              "      <th>0</th>\n",
              "      <td>1990.01</td>\n",
              "      <td>0.000131</td>\n",
              "    </tr>\n",
              "    <tr>\n",
              "      <th>1</th>\n",
              "      <td>1990.02</td>\n",
              "      <td>0.000172</td>\n",
              "    </tr>\n",
              "    <tr>\n",
              "      <th>2</th>\n",
              "      <td>1990.03</td>\n",
              "      <td>0.000220</td>\n",
              "    </tr>\n",
              "    <tr>\n",
              "      <th>3</th>\n",
              "      <td>1990.04</td>\n",
              "      <td>0.000223</td>\n",
              "    </tr>\n",
              "    <tr>\n",
              "      <th>4</th>\n",
              "      <td>1990.05</td>\n",
              "      <td>0.000301</td>\n",
              "    </tr>\n",
              "    <tr>\n",
              "      <th>...</th>\n",
              "      <td>...</td>\n",
              "      <td>...</td>\n",
              "    </tr>\n",
              "    <tr>\n",
              "      <th>127</th>\n",
              "      <td>2000.08</td>\n",
              "      <td>18.400000</td>\n",
              "    </tr>\n",
              "    <tr>\n",
              "      <th>128</th>\n",
              "      <td>2000.09</td>\n",
              "      <td>18.500000</td>\n",
              "    </tr>\n",
              "    <tr>\n",
              "      <th>129</th>\n",
              "      <td>2000.10</td>\n",
              "      <td>18.250000</td>\n",
              "    </tr>\n",
              "    <tr>\n",
              "      <th>130</th>\n",
              "      <td>2000.11</td>\n",
              "      <td>18.200000</td>\n",
              "    </tr>\n",
              "    <tr>\n",
              "      <th>131</th>\n",
              "      <td>2000.12</td>\n",
              "      <td>20.690000</td>\n",
              "    </tr>\n",
              "  </tbody>\n",
              "</table>\n",
              "<p>132 rows × 2 columns</p>\n",
              "</div>"
            ],
            "text/plain": [
              "        Data  Preço médio - atacado - arroz - longo fino agulhinha - 30 kg - SP - R$\n",
              "0    1990.01                                           0.000131                     \n",
              "1    1990.02                                           0.000172                     \n",
              "2    1990.03                                           0.000220                     \n",
              "3    1990.04                                           0.000223                     \n",
              "4    1990.05                                           0.000301                     \n",
              "..       ...                                                ...                     \n",
              "127  2000.08                                          18.400000                     \n",
              "128  2000.09                                          18.500000                     \n",
              "129  2000.10                                          18.250000                     \n",
              "130  2000.11                                          18.200000                     \n",
              "131  2000.12                                          20.690000                     \n",
              "\n",
              "[132 rows x 2 columns]"
            ]
          },
          "metadata": {
            "tags": []
          },
          "execution_count": 58
        }
      ]
    },
    {
      "cell_type": "markdown",
      "metadata": {
        "id": "xqdjyXPmnctv"
      },
      "source": [
        "- **Estatística Descritiva**"
      ]
    },
    {
      "cell_type": "code",
      "metadata": {
        "colab": {
          "base_uri": "https://localhost:8080/",
          "height": 287
        },
        "id": "R-_PAMCVDHbP",
        "outputId": "13869a64-e19f-4c29-9a6b-c8fe8e0a7e63"
      },
      "source": [
        "df1a = dfGeral[[\"Preço médio - atacado - arroz - longo fino agulhinha - 30 kg - SP - R$\"]]\n",
        "df1a.describe()"
      ],
      "execution_count": null,
      "outputs": [
        {
          "output_type": "execute_result",
          "data": {
            "text/html": [
              "<div>\n",
              "<style scoped>\n",
              "    .dataframe tbody tr th:only-of-type {\n",
              "        vertical-align: middle;\n",
              "    }\n",
              "\n",
              "    .dataframe tbody tr th {\n",
              "        vertical-align: top;\n",
              "    }\n",
              "\n",
              "    .dataframe thead th {\n",
              "        text-align: right;\n",
              "    }\n",
              "</style>\n",
              "<table border=\"1\" class=\"dataframe\">\n",
              "  <thead>\n",
              "    <tr style=\"text-align: right;\">\n",
              "      <th></th>\n",
              "      <th>Preço médio - atacado - arroz - longo fino agulhinha - 30 kg - SP - R$</th>\n",
              "    </tr>\n",
              "  </thead>\n",
              "  <tbody>\n",
              "    <tr>\n",
              "      <th>count</th>\n",
              "      <td>132.000000</td>\n",
              "    </tr>\n",
              "    <tr>\n",
              "      <th>mean</th>\n",
              "      <td>11.059401</td>\n",
              "    </tr>\n",
              "    <tr>\n",
              "      <th>std</th>\n",
              "      <td>9.097810</td>\n",
              "    </tr>\n",
              "    <tr>\n",
              "      <th>min</th>\n",
              "      <td>0.000131</td>\n",
              "    </tr>\n",
              "    <tr>\n",
              "      <th>25%</th>\n",
              "      <td>0.037005</td>\n",
              "    </tr>\n",
              "    <tr>\n",
              "      <th>50%</th>\n",
              "      <td>15.005000</td>\n",
              "    </tr>\n",
              "    <tr>\n",
              "      <th>75%</th>\n",
              "      <td>18.310000</td>\n",
              "    </tr>\n",
              "    <tr>\n",
              "      <th>max</th>\n",
              "      <td>25.810000</td>\n",
              "    </tr>\n",
              "  </tbody>\n",
              "</table>\n",
              "</div>"
            ],
            "text/plain": [
              "       Preço médio - atacado - arroz - longo fino agulhinha - 30 kg - SP - R$\n",
              "count                                         132.000000                     \n",
              "mean                                           11.059401                     \n",
              "std                                             9.097810                     \n",
              "min                                             0.000131                     \n",
              "25%                                             0.037005                     \n",
              "50%                                            15.005000                     \n",
              "75%                                            18.310000                     \n",
              "max                                            25.810000                     "
            ]
          },
          "metadata": {
            "tags": []
          },
          "execution_count": 6
        }
      ]
    },
    {
      "cell_type": "code",
      "metadata": {
        "colab": {
          "base_uri": "https://localhost:8080/"
        },
        "id": "9lJMG8qmphFF",
        "outputId": "f1618e50-fb4b-4dce-db73-3e1f21af7c53"
      },
      "source": [
        "a = df1['Preço médio - atacado - arroz - longo fino agulhinha - 30 kg - SP - R$'].median()\n",
        "b = df1['Preço médio - atacado - arroz - longo fino agulhinha - 30 kg - SP - R$'].mode()\n",
        "c = df1[\"Preço médio - atacado - arroz - longo fino agulhinha - 30 kg - SP - R$\"].max()-df1[\"Preço médio - atacado - arroz - longo fino agulhinha - 30 kg - SP - R$\"].min()\n",
        "d = df1['Preço médio - atacado - arroz - longo fino agulhinha - 30 kg - SP - R$'].var()\n",
        "print(\"Mediana =\", a, \"\\n\")\n",
        "print('Amplitude =', c, \"\\n\")\n",
        "print('Variância =', d, \"\\n\")\n",
        "print('Moda =', b, \"\\n\")"
      ],
      "execution_count": null,
      "outputs": [
        {
          "output_type": "stream",
          "text": [
            "Mediana = 15.004999999999999 \n",
            "\n",
            "Amplitude = 25.809868599999998 \n",
            "\n",
            "Variância = 82.77015342546223 \n",
            "\n",
            "Moda = 0    17.0\n",
            "dtype: float64 \n",
            "\n"
          ],
          "name": "stdout"
        }
      ]
    },
    {
      "cell_type": "markdown",
      "metadata": {
        "id": "LpzrtE_aoPBp"
      },
      "source": [
        "- **Gráfico de Histograma**"
      ]
    },
    {
      "cell_type": "code",
      "metadata": {
        "colab": {
          "base_uri": "https://localhost:8080/",
          "height": 316
        },
        "id": "vqpZnd9VGJYx",
        "outputId": "baf8c07f-149e-42ed-e5b0-7c9a11db196e"
      },
      "source": [
        "df1.hist(column = \"Preço médio - atacado - arroz - longo fino agulhinha - 30 kg - SP - R$\")"
      ],
      "execution_count": null,
      "outputs": [
        {
          "output_type": "execute_result",
          "data": {
            "text/plain": [
              "array([[<matplotlib.axes._subplots.AxesSubplot object at 0x7fc039b272b0>]],\n",
              "      dtype=object)"
            ]
          },
          "metadata": {
            "tags": []
          },
          "execution_count": 9
        },
        {
          "output_type": "display_data",
          "data": {
            "image/png": "[encoded data removed]",
            "text/plain": [
              "<Figure size 432x288 with 1 Axes>"
            ]
          },
          "metadata": {
            "tags": [],
            "needs_background": "light"
          }
        }
      ]
    },
    {
      "cell_type": "markdown",
      "metadata": {
        "id": "8pY5NQ6G9Mmu"
      },
      "source": [
        "- **Gráfico de Boxplot**"
      ]
    },
    {
      "cell_type": "code",
      "metadata": {
        "colab": {
          "base_uri": "https://localhost:8080/",
          "height": 283
        },
        "id": "Z3ocN0Wk91zT",
        "outputId": "a1f62f0a-6095-4351-94f0-799b050fe9a4"
      },
      "source": [
        "df1.boxplot(column = \"Preço médio - atacado - arroz - longo fino agulhinha - 30 kg - SP - R$\")"
      ],
      "execution_count": null,
      "outputs": [
        {
          "output_type": "execute_result",
          "data": {
            "text/plain": [
              "<matplotlib.axes._subplots.AxesSubplot at 0x7fc039a7dc50>"
            ]
          },
          "metadata": {
            "tags": []
          },
          "execution_count": 11
        },
        {
          "output_type": "display_data",
          "data": {
            "image/png": "[encoded data removed]",
            "text/plain": [
              "<Figure size 432x288 with 1 Axes>"
            ]
          },
          "metadata": {
            "tags": [],
            "needs_background": "light"
          }
        }
      ]
    },
    {
      "cell_type": "markdown",
      "metadata": {
        "id": "JqEL2G2jDB0C"
      },
      "source": [
        "# **Variável 2**\n",
        "\n",
        "Preço médio - atacado - óleo de soja - refinado - 20 latas - SP - R$ - Companhia Nacional de Abastecimento, Indicadores Econômicos (Conab/IE) - DEPAE12_ATOL12\n"
      ]
    },
    {
      "cell_type": "markdown",
      "metadata": {
        "id": "yD8JcK3RDwu3"
      },
      "source": [
        "- **Filtrando Dados**"
      ]
    },
    {
      "cell_type": "code",
      "metadata": {
        "colab": {
          "base_uri": "https://localhost:8080/",
          "height": 406
        },
        "id": "qSH45UIVDmXo",
        "outputId": "836a9616-19e6-439f-f87f-585e691d7111"
      },
      "source": [
        "dfGeral = pd.read_csv(\"/content/ipeadata[23-11-2020-04-13].csv\", sep = \"\\t\")\n",
        "df2 = dfGeral[[\"Data\", \"Preço médio - atacado - óleo de soja - refinado - 20 latas - SP - R$\"]]\n",
        "df2"
      ],
      "execution_count": null,
      "outputs": [
        {
          "output_type": "execute_result",
          "data": {
            "text/html": [
              "<div>\n",
              "<style scoped>\n",
              "    .dataframe tbody tr th:only-of-type {\n",
              "        vertical-align: middle;\n",
              "    }\n",
              "\n",
              "    .dataframe tbody tr th {\n",
              "        vertical-align: top;\n",
              "    }\n",
              "\n",
              "    .dataframe thead th {\n",
              "        text-align: right;\n",
              "    }\n",
              "</style>\n",
              "<table border=\"1\" class=\"dataframe\">\n",
              "  <thead>\n",
              "    <tr style=\"text-align: right;\">\n",
              "      <th></th>\n",
              "      <th>Data</th>\n",
              "      <th>Preço médio - atacado - óleo de soja - refinado - 20 latas - SP - R$</th>\n",
              "    </tr>\n",
              "  </thead>\n",
              "  <tbody>\n",
              "    <tr>\n",
              "      <th>0</th>\n",
              "      <td>1990.01</td>\n",
              "      <td>0.000097</td>\n",
              "    </tr>\n",
              "    <tr>\n",
              "      <th>1</th>\n",
              "      <td>1990.02</td>\n",
              "      <td>0.000170</td>\n",
              "    </tr>\n",
              "    <tr>\n",
              "      <th>2</th>\n",
              "      <td>1990.03</td>\n",
              "      <td>0.000255</td>\n",
              "    </tr>\n",
              "    <tr>\n",
              "      <th>3</th>\n",
              "      <td>1990.04</td>\n",
              "      <td>0.000245</td>\n",
              "    </tr>\n",
              "    <tr>\n",
              "      <th>4</th>\n",
              "      <td>1990.05</td>\n",
              "      <td>0.000255</td>\n",
              "    </tr>\n",
              "    <tr>\n",
              "      <th>...</th>\n",
              "      <td>...</td>\n",
              "      <td>...</td>\n",
              "    </tr>\n",
              "    <tr>\n",
              "      <th>127</th>\n",
              "      <td>2000.08</td>\n",
              "      <td>17.800000</td>\n",
              "    </tr>\n",
              "    <tr>\n",
              "      <th>128</th>\n",
              "      <td>2000.09</td>\n",
              "      <td>17.600000</td>\n",
              "    </tr>\n",
              "    <tr>\n",
              "      <th>129</th>\n",
              "      <td>2000.10</td>\n",
              "      <td>17.160000</td>\n",
              "    </tr>\n",
              "    <tr>\n",
              "      <th>130</th>\n",
              "      <td>2000.11</td>\n",
              "      <td>17.650000</td>\n",
              "    </tr>\n",
              "    <tr>\n",
              "      <th>131</th>\n",
              "      <td>2000.12</td>\n",
              "      <td>18.250000</td>\n",
              "    </tr>\n",
              "  </tbody>\n",
              "</table>\n",
              "<p>132 rows × 2 columns</p>\n",
              "</div>"
            ],
            "text/plain": [
              "        Data  Preço médio - atacado - óleo de soja - refinado - 20 latas - SP - R$\n",
              "0    1990.01                                           0.000097                   \n",
              "1    1990.02                                           0.000170                   \n",
              "2    1990.03                                           0.000255                   \n",
              "3    1990.04                                           0.000245                   \n",
              "4    1990.05                                           0.000255                   \n",
              "..       ...                                                ...                   \n",
              "127  2000.08                                          17.800000                   \n",
              "128  2000.09                                          17.600000                   \n",
              "129  2000.10                                          17.160000                   \n",
              "130  2000.11                                          17.650000                   \n",
              "131  2000.12                                          18.250000                   \n",
              "\n",
              "[132 rows x 2 columns]"
            ]
          },
          "metadata": {
            "tags": []
          },
          "execution_count": 13
        }
      ]
    },
    {
      "cell_type": "markdown",
      "metadata": {
        "id": "VaIaSzrLN9Lr"
      },
      "source": [
        "- **Estatística Descritiva**\n"
      ]
    },
    {
      "cell_type": "code",
      "metadata": {
        "colab": {
          "base_uri": "https://localhost:8080/",
          "height": 287
        },
        "id": "wCBTtM6POB_S",
        "outputId": "d4609bbe-5a0f-47e6-c309-3399fdc7d645"
      },
      "source": [
        "df2a = dfGeral[[\"Preço médio - atacado - óleo de soja - refinado - 20 latas - SP - R$\"]]\n",
        "df2a.describe()"
      ],
      "execution_count": null,
      "outputs": [
        {
          "output_type": "execute_result",
          "data": {
            "text/html": [
              "<div>\n",
              "<style scoped>\n",
              "    .dataframe tbody tr th:only-of-type {\n",
              "        vertical-align: middle;\n",
              "    }\n",
              "\n",
              "    .dataframe tbody tr th {\n",
              "        vertical-align: top;\n",
              "    }\n",
              "\n",
              "    .dataframe thead th {\n",
              "        text-align: right;\n",
              "    }\n",
              "</style>\n",
              "<table border=\"1\" class=\"dataframe\">\n",
              "  <thead>\n",
              "    <tr style=\"text-align: right;\">\n",
              "      <th></th>\n",
              "      <th>Preço médio - atacado - óleo de soja - refinado - 20 latas - SP - R$</th>\n",
              "    </tr>\n",
              "  </thead>\n",
              "  <tbody>\n",
              "    <tr>\n",
              "      <th>count</th>\n",
              "      <td>132.000000</td>\n",
              "    </tr>\n",
              "    <tr>\n",
              "      <th>mean</th>\n",
              "      <td>11.241595</td>\n",
              "    </tr>\n",
              "    <tr>\n",
              "      <th>std</th>\n",
              "      <td>8.947705</td>\n",
              "    </tr>\n",
              "    <tr>\n",
              "      <th>min</th>\n",
              "      <td>0.000097</td>\n",
              "    </tr>\n",
              "    <tr>\n",
              "      <th>25%</th>\n",
              "      <td>0.037998</td>\n",
              "    </tr>\n",
              "    <tr>\n",
              "      <th>50%</th>\n",
              "      <td>16.402500</td>\n",
              "    </tr>\n",
              "    <tr>\n",
              "      <th>75%</th>\n",
              "      <td>18.212500</td>\n",
              "    </tr>\n",
              "    <tr>\n",
              "      <th>max</th>\n",
              "      <td>24.800000</td>\n",
              "    </tr>\n",
              "  </tbody>\n",
              "</table>\n",
              "</div>"
            ],
            "text/plain": [
              "       Preço médio - atacado - óleo de soja - refinado - 20 latas - SP - R$\n",
              "count                                         132.000000                   \n",
              "mean                                           11.241595                   \n",
              "std                                             8.947705                   \n",
              "min                                             0.000097                   \n",
              "25%                                             0.037998                   \n",
              "50%                                            16.402500                   \n",
              "75%                                            18.212500                   \n",
              "max                                            24.800000                   "
            ]
          },
          "metadata": {
            "tags": []
          },
          "execution_count": 14
        }
      ]
    },
    {
      "cell_type": "code",
      "metadata": {
        "colab": {
          "base_uri": "https://localhost:8080/"
        },
        "id": "sSzgumyqOLra",
        "outputId": "4cff58d9-0cba-412f-ee83-cc82c8485683"
      },
      "source": [
        "a = df2[\"Preço médio - atacado - óleo de soja - refinado - 20 latas - SP - R$\"].median()\n",
        "b = df2[\"Preço médio - atacado - óleo de soja - refinado - 20 latas - SP - R$\"].mode()\n",
        "c = df2[\"Preço médio - atacado - óleo de soja - refinado - 20 latas - SP - R$\"].max()-df2[\"Preço médio - atacado - óleo de soja - refinado - 20 latas - SP - R$\"].min()\n",
        "d = df2[\"Preço médio - atacado - óleo de soja - refinado - 20 latas - SP - R$\"].var()\n",
        "print(\"Mediana =\", a, \"\\n\")\n",
        "print('Amplitude =', c, \"\\n\")\n",
        "print('Variância =', d, \"\\n\")\n",
        "print('Moda =', b, \"\\n\")"
      ],
      "execution_count": null,
      "outputs": [
        {
          "output_type": "stream",
          "text": [
            "Mediana = 16.4025 \n",
            "\n",
            "Amplitude = 24.7999033 \n",
            "\n",
            "Variância = 80.06142673136583 \n",
            "\n",
            "Moda = 0    17.3\n",
            "dtype: float64 \n",
            "\n"
          ],
          "name": "stdout"
        }
      ]
    },
    {
      "cell_type": "markdown",
      "metadata": {
        "id": "4z2N5DJ3PSKi"
      },
      "source": [
        "- **Gráfico de Histograma**"
      ]
    },
    {
      "cell_type": "code",
      "metadata": {
        "colab": {
          "base_uri": "https://localhost:8080/",
          "height": 316
        },
        "id": "5RWthTJWPQG3",
        "outputId": "8019a528-0473-4ea0-fe5e-f8c6f5b55787"
      },
      "source": [
        "df2.hist(column = \"Preço médio - atacado - óleo de soja - refinado - 20 latas - SP - R$\")"
      ],
      "execution_count": null,
      "outputs": [
        {
          "output_type": "execute_result",
          "data": {
            "text/plain": [
              "array([[<matplotlib.axes._subplots.AxesSubplot object at 0x7fc0393614e0>]],\n",
              "      dtype=object)"
            ]
          },
          "metadata": {
            "tags": []
          },
          "execution_count": 17
        },
        {
          "output_type": "display_data",
          "data": {
            "image/png": "[encoded data removed]",
            "text/plain": [
              "<Figure size 432x288 with 1 Axes>"
            ]
          },
          "metadata": {
            "tags": [],
            "needs_background": "light"
          }
        }
      ]
    },
    {
      "cell_type": "markdown",
      "metadata": {
        "id": "BdM-TcLwP6LM"
      },
      "source": [
        "- **Gráfico de Boxplot**"
      ]
    },
    {
      "cell_type": "code",
      "metadata": {
        "colab": {
          "base_uri": "https://localhost:8080/",
          "height": 283
        },
        "id": "NJJ5PWM9P7Jk",
        "outputId": "2b0a401c-7a9e-44ef-a9d5-355ae5b97b39"
      },
      "source": [
        "df2.boxplot(column = \"Preço médio - atacado - óleo de soja - refinado - 20 latas - SP - R$\")"
      ],
      "execution_count": null,
      "outputs": [
        {
          "output_type": "execute_result",
          "data": {
            "text/plain": [
              "<matplotlib.axes._subplots.AxesSubplot at 0x7fc0392dd278>"
            ]
          },
          "metadata": {
            "tags": []
          },
          "execution_count": 18
        },
        {
          "output_type": "display_data",
          "data": {
            "image/png": "[encoded data removed]",
            "text/plain": [
              "<Figure size 432x288 with 1 Axes>"
            ]
          },
          "metadata": {
            "tags": [],
            "needs_background": "light"
          }
        }
      ]
    },
    {
      "cell_type": "markdown",
      "metadata": {
        "id": "C5IRYHtwQOrt"
      },
      "source": [
        "# **Variável 3**\n",
        "\n",
        "Salário mínimo real - R$ (do último mês) - Instituto de Pesquisa Econômica Aplicada - GAC12_SALMINRE12"
      ]
    },
    {
      "cell_type": "markdown",
      "metadata": {
        "id": "vaZbJFLHQWrf"
      },
      "source": [
        "- **Filtrando Dados**"
      ]
    },
    {
      "cell_type": "code",
      "metadata": {
        "colab": {
          "base_uri": "https://localhost:8080/",
          "height": 406
        },
        "id": "O_RZtBXGQdCf",
        "outputId": "b1663e3e-b62f-4f64-84ca-f15b6a04d6a8"
      },
      "source": [
        "dfGeral = pd.read_csv(\"/content/ipeadata[23-11-2020-04-13].csv\", sep = \"\\t\")\n",
        "df3 = dfGeral[[\"Data\", \"Salário mínimo real - R$\"]]\n",
        "df3"
      ],
      "execution_count": null,
      "outputs": [
        {
          "output_type": "execute_result",
          "data": {
            "text/html": [
              "<div>\n",
              "<style scoped>\n",
              "    .dataframe tbody tr th:only-of-type {\n",
              "        vertical-align: middle;\n",
              "    }\n",
              "\n",
              "    .dataframe tbody tr th {\n",
              "        vertical-align: top;\n",
              "    }\n",
              "\n",
              "    .dataframe thead th {\n",
              "        text-align: right;\n",
              "    }\n",
              "</style>\n",
              "<table border=\"1\" class=\"dataframe\">\n",
              "  <thead>\n",
              "    <tr style=\"text-align: right;\">\n",
              "      <th></th>\n",
              "      <th>Data</th>\n",
              "      <th>Salário mínimo real - R$</th>\n",
              "    </tr>\n",
              "  </thead>\n",
              "  <tbody>\n",
              "    <tr>\n",
              "      <th>0</th>\n",
              "      <td>1990.01</td>\n",
              "      <td>600.365391</td>\n",
              "    </tr>\n",
              "    <tr>\n",
              "      <th>1</th>\n",
              "      <td>1990.02</td>\n",
              "      <td>538.667953</td>\n",
              "    </tr>\n",
              "    <tr>\n",
              "      <th>2</th>\n",
              "      <td>1990.03</td>\n",
              "      <td>541.986900</td>\n",
              "    </tr>\n",
              "    <tr>\n",
              "      <th>3</th>\n",
              "      <td>1990.04</td>\n",
              "      <td>472.649254</td>\n",
              "    </tr>\n",
              "    <tr>\n",
              "      <th>4</th>\n",
              "      <td>1990.05</td>\n",
              "      <td>440.452200</td>\n",
              "    </tr>\n",
              "    <tr>\n",
              "      <th>...</th>\n",
              "      <td>...</td>\n",
              "      <td>...</td>\n",
              "    </tr>\n",
              "    <tr>\n",
              "      <th>127</th>\n",
              "      <td>2000.08</td>\n",
              "      <td>513.898812</td>\n",
              "    </tr>\n",
              "    <tr>\n",
              "      <th>128</th>\n",
              "      <td>2000.09</td>\n",
              "      <td>511.698206</td>\n",
              "    </tr>\n",
              "    <tr>\n",
              "      <th>129</th>\n",
              "      <td>2000.10</td>\n",
              "      <td>510.880526</td>\n",
              "    </tr>\n",
              "    <tr>\n",
              "      <th>130</th>\n",
              "      <td>2000.11</td>\n",
              "      <td>509.403016</td>\n",
              "    </tr>\n",
              "    <tr>\n",
              "      <th>131</th>\n",
              "      <td>2000.12</td>\n",
              "      <td>506.615831</td>\n",
              "    </tr>\n",
              "  </tbody>\n",
              "</table>\n",
              "<p>132 rows × 2 columns</p>\n",
              "</div>"
            ],
            "text/plain": [
              "        Data  Salário mínimo real - R$\n",
              "0    1990.01                600.365391\n",
              "1    1990.02                538.667953\n",
              "2    1990.03                541.986900\n",
              "3    1990.04                472.649254\n",
              "4    1990.05                440.452200\n",
              "..       ...                       ...\n",
              "127  2000.08                513.898812\n",
              "128  2000.09                511.698206\n",
              "129  2000.10                510.880526\n",
              "130  2000.11                509.403016\n",
              "131  2000.12                506.615831\n",
              "\n",
              "[132 rows x 2 columns]"
            ]
          },
          "metadata": {
            "tags": []
          },
          "execution_count": 20
        }
      ]
    },
    {
      "cell_type": "markdown",
      "metadata": {
        "id": "qlwy2Y4URHCr"
      },
      "source": [
        "- **Estatística Descritiva**"
      ]
    },
    {
      "cell_type": "code",
      "metadata": {
        "colab": {
          "base_uri": "https://localhost:8080/",
          "height": 287
        },
        "id": "yjizsLtYRMbh",
        "outputId": "c6398e44-ca56-446f-e489-20d4d3322835"
      },
      "source": [
        "df3a = dfGeral[[\"Salário mínimo real - R$\"]]\n",
        "df3a.describe()"
      ],
      "execution_count": null,
      "outputs": [
        {
          "output_type": "execute_result",
          "data": {
            "text/html": [
              "<div>\n",
              "<style scoped>\n",
              "    .dataframe tbody tr th:only-of-type {\n",
              "        vertical-align: middle;\n",
              "    }\n",
              "\n",
              "    .dataframe tbody tr th {\n",
              "        vertical-align: top;\n",
              "    }\n",
              "\n",
              "    .dataframe thead th {\n",
              "        text-align: right;\n",
              "    }\n",
              "</style>\n",
              "<table border=\"1\" class=\"dataframe\">\n",
              "  <thead>\n",
              "    <tr style=\"text-align: right;\">\n",
              "      <th></th>\n",
              "      <th>Salário mínimo real - R$</th>\n",
              "    </tr>\n",
              "  </thead>\n",
              "  <tbody>\n",
              "    <tr>\n",
              "      <th>count</th>\n",
              "      <td>132.000000</td>\n",
              "    </tr>\n",
              "    <tr>\n",
              "      <th>mean</th>\n",
              "      <td>473.689163</td>\n",
              "    </tr>\n",
              "    <tr>\n",
              "      <th>std</th>\n",
              "      <td>64.630375</td>\n",
              "    </tr>\n",
              "    <tr>\n",
              "      <th>min</th>\n",
              "      <td>303.248882</td>\n",
              "    </tr>\n",
              "    <tr>\n",
              "      <th>25%</th>\n",
              "      <td>442.218355</td>\n",
              "    </tr>\n",
              "    <tr>\n",
              "      <th>50%</th>\n",
              "      <td>474.982857</td>\n",
              "    </tr>\n",
              "    <tr>\n",
              "      <th>75%</th>\n",
              "      <td>500.030613</td>\n",
              "    </tr>\n",
              "    <tr>\n",
              "      <th>max</th>\n",
              "      <td>660.036416</td>\n",
              "    </tr>\n",
              "  </tbody>\n",
              "</table>\n",
              "</div>"
            ],
            "text/plain": [
              "       Salário mínimo real - R$\n",
              "count                132.000000\n",
              "mean                 473.689163\n",
              "std                   64.630375\n",
              "min                  303.248882\n",
              "25%                  442.218355\n",
              "50%                  474.982857\n",
              "75%                  500.030613\n",
              "max                  660.036416"
            ]
          },
          "metadata": {
            "tags": []
          },
          "execution_count": 21
        }
      ]
    },
    {
      "cell_type": "code",
      "metadata": {
        "colab": {
          "base_uri": "https://localhost:8080/"
        },
        "id": "m8ZjXv5VRYtn",
        "outputId": "e56300f0-3c2d-4c8f-d849-e960cfc9decf"
      },
      "source": [
        "a = df3[\"Salário mínimo real - R$\"].median()\n",
        "b = df3[\"Salário mínimo real - R$\"].mode()\n",
        "c = df3[\"Salário mínimo real - R$\"].max()-df3[\"Salário mínimo real - R$\"].min()\n",
        "d = df3[\"Salário mínimo real - R$\"].var()\n",
        "print(\"Mediana =\", a, \"\\n\")\n",
        "print('Amplitude =', c, \"\\n\")\n",
        "print('Variância =', d, \"\\n\")\n",
        "print('Moda =', b, \"\\n\")"
      ],
      "execution_count": null,
      "outputs": [
        {
          "output_type": "stream",
          "text": [
            "Mediana = 474.9828567 \n",
            "\n",
            "Amplitude = 356.7875341000001 \n",
            "\n",
            "Variância = 4177.085315474528 \n",
            "\n",
            "Moda = 0      303.248882\n",
            "1      338.301895\n",
            "2      339.249801\n",
            "3      340.821631\n",
            "4      350.580691\n",
            "          ...    \n",
            "127    631.004092\n",
            "128    643.206338\n",
            "129    647.976860\n",
            "130    650.763332\n",
            "131    660.036416\n",
            "Length: 132, dtype: float64 \n",
            "\n"
          ],
          "name": "stdout"
        }
      ]
    },
    {
      "cell_type": "markdown",
      "metadata": {
        "id": "SPR-KrgBR4_j"
      },
      "source": [
        "- **Gráfico de Histograma**"
      ]
    },
    {
      "cell_type": "code",
      "metadata": {
        "colab": {
          "base_uri": "https://localhost:8080/",
          "height": 316
        },
        "id": "ne-YLvUxR59D",
        "outputId": "dea4dd58-7fa8-41d3-bb4e-7a83b7809fc8"
      },
      "source": [
        "df3.hist(column = \"Salário mínimo real - R$\")"
      ],
      "execution_count": null,
      "outputs": [
        {
          "output_type": "execute_result",
          "data": {
            "text/plain": [
              "array([[<matplotlib.axes._subplots.AxesSubplot object at 0x7fc03925ecf8>]],\n",
              "      dtype=object)"
            ]
          },
          "metadata": {
            "tags": []
          },
          "execution_count": 23
        },
        {
          "output_type": "display_data",
          "data": {
            "image/png": "[encoded data removed]",
            "text/plain": [
              "<Figure size 432x288 with 1 Axes>"
            ]
          },
          "metadata": {
            "tags": [],
            "needs_background": "light"
          }
        }
      ]
    },
    {
      "cell_type": "markdown",
      "metadata": {
        "id": "DftjcC6aSGTa"
      },
      "source": [
        "- **Gráfico de Boxplot**"
      ]
    },
    {
      "cell_type": "code",
      "metadata": {
        "colab": {
          "base_uri": "https://localhost:8080/",
          "height": 282
        },
        "id": "sM0ndmQ9SHh7",
        "outputId": "383e4d12-5118-4aa0-d43b-bc33506e7b4b"
      },
      "source": [
        "df3.boxplot(column = \"Salário mínimo real - R$\")"
      ],
      "execution_count": null,
      "outputs": [
        {
          "output_type": "execute_result",
          "data": {
            "text/plain": [
              "<matplotlib.axes._subplots.AxesSubplot at 0x7fc0391e6f98>"
            ]
          },
          "metadata": {
            "tags": []
          },
          "execution_count": 24
        },
        {
          "output_type": "display_data",
          "data": {
            "image/png": "[encoded data removed]",
            "text/plain": [
              "<Figure size 432x288 with 1 Axes>"
            ]
          },
          "metadata": {
            "tags": [],
            "needs_background": "light"
          }
        }
      ]
    },
    {
      "cell_type": "markdown",
      "metadata": {
        "id": "pM8fyUxjarOj"
      },
      "source": [
        "# **Agora que já analisamos nossas variávies individualmente, vamos analisa-las em conjunto para alguns aspectos:**\n"
      ]
    },
    {
      "cell_type": "code",
      "metadata": {
        "colab": {
          "base_uri": "https://localhost:8080/",
          "height": 406
        },
        "id": "lMIF98L6dScv",
        "outputId": "e71aabb0-d2fa-426d-fb4e-273b72f55b10"
      },
      "source": [
        "dfGeral = pd.read_csv(\"/content/ipeadata[23-11-2020-04-13].csv\", sep = \"\\t\")\n",
        "dfGeral"
      ],
      "execution_count": null,
      "outputs": [
        {
          "output_type": "execute_result",
          "data": {
            "text/html": [
              "<div>\n",
              "<style scoped>\n",
              "    .dataframe tbody tr th:only-of-type {\n",
              "        vertical-align: middle;\n",
              "    }\n",
              "\n",
              "    .dataframe tbody tr th {\n",
              "        vertical-align: top;\n",
              "    }\n",
              "\n",
              "    .dataframe thead th {\n",
              "        text-align: right;\n",
              "    }\n",
              "</style>\n",
              "<table border=\"1\" class=\"dataframe\">\n",
              "  <thead>\n",
              "    <tr style=\"text-align: right;\">\n",
              "      <th></th>\n",
              "      <th>Data</th>\n",
              "      <th>Preço médio - atacado - arroz - longo fino agulhinha - 30 kg - SP - R$</th>\n",
              "      <th>Preço médio - atacado - óleo de soja - refinado - 20 latas - SP - R$</th>\n",
              "      <th>Salário mínimo real - R$</th>\n",
              "    </tr>\n",
              "  </thead>\n",
              "  <tbody>\n",
              "    <tr>\n",
              "      <th>0</th>\n",
              "      <td>1990.01</td>\n",
              "      <td>0.000131</td>\n",
              "      <td>0.000097</td>\n",
              "      <td>600.365391</td>\n",
              "    </tr>\n",
              "    <tr>\n",
              "      <th>1</th>\n",
              "      <td>1990.02</td>\n",
              "      <td>0.000172</td>\n",
              "      <td>0.000170</td>\n",
              "      <td>538.667953</td>\n",
              "    </tr>\n",
              "    <tr>\n",
              "      <th>2</th>\n",
              "      <td>1990.03</td>\n",
              "      <td>0.000220</td>\n",
              "      <td>0.000255</td>\n",
              "      <td>541.986900</td>\n",
              "    </tr>\n",
              "    <tr>\n",
              "      <th>3</th>\n",
              "      <td>1990.04</td>\n",
              "      <td>0.000223</td>\n",
              "      <td>0.000245</td>\n",
              "      <td>472.649254</td>\n",
              "    </tr>\n",
              "    <tr>\n",
              "      <th>4</th>\n",
              "      <td>1990.05</td>\n",
              "      <td>0.000301</td>\n",
              "      <td>0.000255</td>\n",
              "      <td>440.452200</td>\n",
              "    </tr>\n",
              "    <tr>\n",
              "      <th>...</th>\n",
              "      <td>...</td>\n",
              "      <td>...</td>\n",
              "      <td>...</td>\n",
              "      <td>...</td>\n",
              "    </tr>\n",
              "    <tr>\n",
              "      <th>127</th>\n",
              "      <td>2000.08</td>\n",
              "      <td>18.400000</td>\n",
              "      <td>17.800000</td>\n",
              "      <td>513.898812</td>\n",
              "    </tr>\n",
              "    <tr>\n",
              "      <th>128</th>\n",
              "      <td>2000.09</td>\n",
              "      <td>18.500000</td>\n",
              "      <td>17.600000</td>\n",
              "      <td>511.698206</td>\n",
              "    </tr>\n",
              "    <tr>\n",
              "      <th>129</th>\n",
              "      <td>2000.10</td>\n",
              "      <td>18.250000</td>\n",
              "      <td>17.160000</td>\n",
              "      <td>510.880526</td>\n",
              "    </tr>\n",
              "    <tr>\n",
              "      <th>130</th>\n",
              "      <td>2000.11</td>\n",
              "      <td>18.200000</td>\n",
              "      <td>17.650000</td>\n",
              "      <td>509.403016</td>\n",
              "    </tr>\n",
              "    <tr>\n",
              "      <th>131</th>\n",
              "      <td>2000.12</td>\n",
              "      <td>20.690000</td>\n",
              "      <td>18.250000</td>\n",
              "      <td>506.615831</td>\n",
              "    </tr>\n",
              "  </tbody>\n",
              "</table>\n",
              "<p>132 rows × 4 columns</p>\n",
              "</div>"
            ],
            "text/plain": [
              "        Data  ...  Salário mínimo real - R$\n",
              "0    1990.01  ...                600.365391\n",
              "1    1990.02  ...                538.667953\n",
              "2    1990.03  ...                541.986900\n",
              "3    1990.04  ...                472.649254\n",
              "4    1990.05  ...                440.452200\n",
              "..       ...  ...                       ...\n",
              "127  2000.08  ...                513.898812\n",
              "128  2000.09  ...                511.698206\n",
              "129  2000.10  ...                510.880526\n",
              "130  2000.11  ...                509.403016\n",
              "131  2000.12  ...                506.615831\n",
              "\n",
              "[132 rows x 4 columns]"
            ]
          },
          "metadata": {
            "tags": []
          },
          "execution_count": 25
        }
      ]
    },
    {
      "cell_type": "markdown",
      "metadata": {
        "id": "2pmwmPFcfvfj"
      },
      "source": [
        "- **Matriz de Correlação Geral**"
      ]
    },
    {
      "cell_type": "code",
      "metadata": {
        "colab": {
          "base_uri": "https://localhost:8080/",
          "height": 217
        },
        "id": "ZMaQBHExfxtv",
        "outputId": "454763a9-8ef2-42d6-c0f6-4b1058eda35b"
      },
      "source": [
        "dfGeral.corr()"
      ],
      "execution_count": null,
      "outputs": [
        {
          "output_type": "execute_result",
          "data": {
            "text/html": [
              "<div>\n",
              "<style scoped>\n",
              "    .dataframe tbody tr th:only-of-type {\n",
              "        vertical-align: middle;\n",
              "    }\n",
              "\n",
              "    .dataframe tbody tr th {\n",
              "        vertical-align: top;\n",
              "    }\n",
              "\n",
              "    .dataframe thead th {\n",
              "        text-align: right;\n",
              "    }\n",
              "</style>\n",
              "<table border=\"1\" class=\"dataframe\">\n",
              "  <thead>\n",
              "    <tr style=\"text-align: right;\">\n",
              "      <th></th>\n",
              "      <th>Data</th>\n",
              "      <th>Preço médio - atacado - arroz - longo fino agulhinha - 30 kg - SP - R$</th>\n",
              "      <th>Preço médio - atacado - óleo de soja - refinado - 20 latas - SP - R$</th>\n",
              "      <th>Salário mínimo real - R$</th>\n",
              "    </tr>\n",
              "  </thead>\n",
              "  <tbody>\n",
              "    <tr>\n",
              "      <th>Data</th>\n",
              "      <td>1.000000</td>\n",
              "      <td>0.914413</td>\n",
              "      <td>0.896070</td>\n",
              "      <td>0.110997</td>\n",
              "    </tr>\n",
              "    <tr>\n",
              "      <th>Preço médio - atacado - arroz - longo fino agulhinha - 30 kg - SP - R$</th>\n",
              "      <td>0.914413</td>\n",
              "      <td>1.000000</td>\n",
              "      <td>0.980222</td>\n",
              "      <td>-0.050903</td>\n",
              "    </tr>\n",
              "    <tr>\n",
              "      <th>Preço médio - atacado - óleo de soja - refinado - 20 latas - SP - R$</th>\n",
              "      <td>0.896070</td>\n",
              "      <td>0.980222</td>\n",
              "      <td>1.000000</td>\n",
              "      <td>-0.106730</td>\n",
              "    </tr>\n",
              "    <tr>\n",
              "      <th>Salário mínimo real - R$</th>\n",
              "      <td>0.110997</td>\n",
              "      <td>-0.050903</td>\n",
              "      <td>-0.106730</td>\n",
              "      <td>1.000000</td>\n",
              "    </tr>\n",
              "  </tbody>\n",
              "</table>\n",
              "</div>"
            ],
            "text/plain": [
              "                                                        Data  ...  Salário mínimo real - R$\n",
              "Data                                                1.000000  ...                  0.110997\n",
              "Preço médio - atacado - arroz - longo fino agul...  0.914413  ...                 -0.050903\n",
              "Preço médio - atacado - óleo de soja - refinado...  0.896070  ...                 -0.106730\n",
              "Salário mínimo real - R$                            0.110997  ...                  1.000000\n",
              "\n",
              "[4 rows x 4 columns]"
            ]
          },
          "metadata": {
            "tags": []
          },
          "execution_count": 26
        }
      ]
    },
    {
      "cell_type": "markdown",
      "metadata": {
        "id": "FJCHpJHoa3AY"
      },
      "source": [
        "# **Variável 1 X Variável 2**"
      ]
    },
    {
      "cell_type": "markdown",
      "metadata": {
        "id": "KSYtKZ7ZfVxo"
      },
      "source": [
        "- **Matriz de Correlação**"
      ]
    },
    {
      "cell_type": "code",
      "metadata": {
        "colab": {
          "base_uri": "https://localhost:8080/"
        },
        "id": "zQcuFvSSeuGv",
        "outputId": "4f1fadc8-1eba-4d1a-efda-35f0ace9592e"
      },
      "source": [
        "corr1 = dfGeral['Preço médio - atacado - arroz - longo fino agulhinha - 30 kg - SP - R$'].corr(dfGeral['Preço médio - atacado - óleo de soja - refinado - 20 latas - SP - R$'])\n",
        "print(\"A correlação entre o Preço médio no atacado do arroz longo fino agulhinha e o Preço médio no atacado do óleo de soja refinado é de\", corr1)\n",
        "\n",
        "if 1 >= abs(corr1) >= 0.9:\n",
        "  print(\"A correlação entre o Preço médio no atacado do arroz longo fino agulhinha e o Preço médio no atacado do óleo de soja refinado é muito forte\")\n",
        "elif 0.9 > abs(corr1) >= 0.7:\n",
        "  print(\"A correlação entre o Preço médio no atacado do arroz longo fino agulhinha e o Preço médio no atacado do óleo de soja refinado é forte\")\n",
        "elif 0.7 > abs(corr1) >= 0.4:\n",
        "  print(\"A correlação entre o Preço médio no atacado do arroz longo fino agulhinha e o Preço médio no atacado do óleo de soja refinado é moderada\")\n",
        "elif 0.4 > abs(corr1) >= 0.2:\n",
        "  print(\"A correlação entre o Preço médio no atacado do arroz longo fino agulhinha e o Preço médio no atacado do óleo de soja refinado é fraca\")\n",
        "elif 0.2 > abs(corr1) >= 0:\n",
        "  print(\"A correlação entre o Preço médio no atacado do arroz longo fino agulhinha e o Preço médio no atacado do óleo de soja refinado é muito fraca\")"
      ],
      "execution_count": null,
      "outputs": [
        {
          "output_type": "stream",
          "text": [
            "A correlação entre o Preço médio no atacado do arroz longo fino agulhinha e o Preço médio no atacado do óleo de soja refinado é de 0.9802218229964809\n",
            "A correlação entre o Preço médio no atacado do arroz longo fino agulhinha e o Preço médio no atacado do óleo de soja refinado é muito forte\n"
          ],
          "name": "stdout"
        }
      ]
    },
    {
      "cell_type": "markdown",
      "metadata": {
        "id": "q1o_QIv8kf_-"
      },
      "source": [
        "- **Regressão Linear**"
      ]
    },
    {
      "cell_type": "code",
      "metadata": {
        "colab": {
          "base_uri": "https://localhost:8080/",
          "height": 625
        },
        "id": "GHJ5f5YHmgTQ",
        "outputId": "a5213d7a-8150-4590-a5df-3a25e9f58fdd"
      },
      "source": [
        "# Preço médio - atacado - arroz - longo fino agulhinha - 30 kg - SP - R$(Variável Independente) e Preço médio - atacado - óleo de soja - refinado - 20 latas - SP - R$(Variável Dependente)\n",
        "\n",
        "r1 = corr1**2\n",
        "print(\"R² =\", r1, \"\\n\")\n",
        "\n",
        "(a,b) = np.polyfit(x=dfGeral['Preço médio - atacado - arroz - longo fino agulhinha - 30 kg - SP - R$'], y= dfGeral['Preço médio - atacado - óleo de soja - refinado - 20 latas - SP - R$'], deg=1)\n",
        "modelo = a*dfGeral['Preço médio - atacado - arroz - longo fino agulhinha - 30 kg - SP - R$']+ b\n",
        "print(modelo)\n",
        "\n",
        "dfGeral.plot(x = 'Preço médio - atacado - arroz - longo fino agulhinha - 30 kg - SP - R$', y = 'Preço médio - atacado - óleo de soja - refinado - 20 latas - SP - R$', kind = 'scatter')"
      ],
      "execution_count": null,
      "outputs": [
        {
          "output_type": "stream",
          "text": [
            "R² = 0.9608348222785442 \n",
            "\n",
            "0       0.579917\n",
            "1       0.579956\n",
            "2       0.580003\n",
            "3       0.580005\n",
            "4       0.580080\n",
            "         ...    \n",
            "127    18.318293\n",
            "128    18.414698\n",
            "129    18.173686\n",
            "130    18.125484\n",
            "131    20.525966\n",
            "Name: Preço médio - atacado - arroz - longo fino agulhinha - 30 kg - SP - R$, Length: 132, dtype: float64\n"
          ],
          "name": "stdout"
        },
        {
          "output_type": "execute_result",
          "data": {
            "text/plain": [
              "<matplotlib.axes._subplots.AxesSubplot at 0x7fc02ff4a320>"
            ]
          },
          "metadata": {
            "tags": []
          },
          "execution_count": 47
        },
        {
          "output_type": "display_data",
          "data": {
            "image/png": "[encoded data removed]",
            "text/plain": [
              "<Figure size 432x288 with 1 Axes>"
            ]
          },
          "metadata": {
            "tags": [],
            "needs_background": "light"
          }
        }
      ]
    },
    {
      "cell_type": "markdown",
      "metadata": {
        "id": "h6yozzP8eu96"
      },
      "source": [
        "# **Variável 2 X Variável 3**"
      ]
    },
    {
      "cell_type": "markdown",
      "metadata": {
        "id": "09ZnNv0VkSCF"
      },
      "source": [
        "- **Matriz de Correlação**"
      ]
    },
    {
      "cell_type": "code",
      "metadata": {
        "colab": {
          "base_uri": "https://localhost:8080/"
        },
        "id": "yzQCsKnCe5Vj",
        "outputId": "884d6719-564c-433a-f64b-b975fb377952"
      },
      "source": [
        "corr2 = dfGeral['Salário mínimo real - R$'].corr(dfGeral['Preço médio - atacado - óleo de soja - refinado - 20 latas - SP - R$'])\n",
        "print(\"A correlação entre o Preço médio no atacado do óleo de soja refinado e o valor Salário mínimo real é de\", corr2)\n",
        "\n",
        "if 1 >= abs(corr2) >= 0.9:\n",
        "  print(\"A correlação entre o Preço médio no atacado do óleo de soja refinado e o valor Salário mínimo real é muito forte\")\n",
        "elif 0.9 > abs(corr2) >= 0.7:\n",
        "  print(\"A correlação entre o Preço médio no atacado do óleo de soja refinado e o valor Salário mínimo real é forte\")\n",
        "elif 0.7 > abs(corr2) >= 0.4:\n",
        "  print(\"A correlação entre o Preço médio no atacado do óleo de soja refinado e o valor Salário mínimo real é moderada\")\n",
        "elif 0.4 > abs(corr2) >= 0.2:\n",
        "  print(\"A correlação entre o Preço médio no atacado do óleo de soja refinado e o valor Salário mínimo real é fraca\")\n",
        "elif 0.2 > abs(corr2) >= 0:\n",
        "  print(\"A correlação entre o Preço médio no atacado do óleo de soja refinado e o valor Salário mínimo real é muito fraca\")"
      ],
      "execution_count": null,
      "outputs": [
        {
          "output_type": "stream",
          "text": [
            "A correlação entre o Preço médio no atacado do óleo de soja refinado e o valor Salário mínimo real é de -0.10672969473541985\n",
            "A correlação entre o Preço médio no atacado do óleo de soja refinado e o valor Salário mínimo real é muito fraca\n"
          ],
          "name": "stdout"
        }
      ]
    },
    {
      "cell_type": "markdown",
      "metadata": {
        "id": "Vc0UKsgTqy1J"
      },
      "source": [
        "- **Regressão Linear**"
      ]
    },
    {
      "cell_type": "code",
      "metadata": {
        "colab": {
          "base_uri": "https://localhost:8080/",
          "height": 546
        },
        "id": "cvISTmmsrADm",
        "outputId": "2b0862fc-94fe-4030-8ac5-046b6a57a218"
      },
      "source": [
        "# Preço médio - atacado - óleo de soja - refinado - 20 latas - SP - R$(Variável Independente) e Salário mínimo real - R$(Variável Dependente)\n",
        "\n",
        "r2 = corr2**2\n",
        "print(\"R² =\", r2, \"\\n\")\n",
        "\n",
        "(a,b) = np.polyfit(x=dfGeral['Preço médio - atacado - óleo de soja - refinado - 20 latas - SP - R$'], y= dfGeral['Salário mínimo real - R$'], deg=1)\n",
        "modelo = a*dfGeral['Preço médio - atacado - óleo de soja - refinado - 20 latas - SP - R$']+ b\n",
        "print(modelo)\n",
        "\n",
        "dfGeral.plot(x = 'Preço médio - atacado - óleo de soja - refinado - 20 latas - SP - R$', y = 'Salário mínimo real - R$', kind = 'scatter')"
      ],
      "execution_count": null,
      "outputs": [
        {
          "output_type": "stream",
          "text": [
            "R² = 0.011391227738315907 \n",
            "\n",
            "0      482.355478\n",
            "1      482.355422\n",
            "2      482.355357\n",
            "3      482.355364\n",
            "4      482.355357\n",
            "          ...    \n",
            "127    468.633146\n",
            "128    468.787331\n",
            "129    469.126536\n",
            "130    468.748785\n",
            "131    468.286231\n",
            "Name: Preço médio - atacado - óleo de soja - refinado - 20 latas - SP - R$, Length: 132, dtype: float64\n"
          ],
          "name": "stdout"
        },
        {
          "output_type": "execute_result",
          "data": {
            "text/plain": [
              "<matplotlib.axes._subplots.AxesSubplot at 0x7fc02fea5710>"
            ]
          },
          "metadata": {
            "tags": []
          },
          "execution_count": 49
        },
        {
          "output_type": "display_data",
          "data": {
            "image/png": "[encoded data removed]",
            "text/plain": [
              "<Figure size 432x288 with 1 Axes>"
            ]
          },
          "metadata": {
            "tags": [],
            "needs_background": "light"
          }
        }
      ]
    },
    {
      "cell_type": "markdown",
      "metadata": {
        "id": "e4csHRo3e5jD"
      },
      "source": [
        "# **Variável 1 X Variável 3**"
      ]
    },
    {
      "cell_type": "markdown",
      "metadata": {
        "id": "HsInx21BkXYz"
      },
      "source": [
        "- **Matriz de Correlação**"
      ]
    },
    {
      "cell_type": "code",
      "metadata": {
        "colab": {
          "base_uri": "https://localhost:8080/"
        },
        "id": "Q46NwkGujiFx",
        "outputId": "14f60684-9766-4227-ed9c-4018e4746c6e"
      },
      "source": [
        "corr3 = dfGeral['Salário mínimo real - R$'].corr(dfGeral['Preço médio - atacado - arroz - longo fino agulhinha - 30 kg - SP - R$'])\n",
        "print(\"A correlação entre o Preço médio no atacado do arroz longo fino agulhinha e o valor Salário mínimo real é de\", corr3)\n",
        "\n",
        "if 1 >= abs(corr3) >= 0.9:\n",
        "  print(\"A correlação entre o Preço médio no atacado do arroz longo fino agulhinha e o valor Salário mínimo real é muito forte\")\n",
        "elif 0.9 > abs(corr3) >= 0.7:\n",
        "  print(\"A correlação entre o Preço médio no atacado do arroz longo fino agulhinha e o valor Salário mínimo real é forte\")\n",
        "elif 0.7 > abs(corr3) >= 0.4:\n",
        "  print(\"A correlação entre o Preço médio no atacado do arroz longo fino agulhinha e o valor Salário mínimo real é moderada\")\n",
        "elif 0.4 > abs(corr3) >= 0.2:\n",
        "  print(\"A correlação entre o Preço médio no atacado do arroz longo fino agulhinha e o valor Salário mínimo real é fraca\")\n",
        "elif 0.2 > abs(corr3) >= 0:\n",
        "  print(\"A correlação entre o Preço médio no atacado do arroz longo fino agulhinha e o valor Salário mínimo real é muito fraca\")"
      ],
      "execution_count": null,
      "outputs": [
        {
          "output_type": "stream",
          "text": [
            "A correlação entre o Preço médio no atacado do arroz longo fino agulhinha e o valor Salário mínimo real é de -0.05090333909484495\n",
            "A correlação entre o Preço médio no atacado do arroz longo fino agulhinha e o valor Salário mínimo real é muito fraca\n"
          ],
          "name": "stdout"
        }
      ]
    },
    {
      "cell_type": "markdown",
      "metadata": {
        "id": "azIvhilvq5Hn"
      },
      "source": [
        "- **Regressão Linear**\n"
      ]
    },
    {
      "cell_type": "code",
      "metadata": {
        "colab": {
          "base_uri": "https://localhost:8080/",
          "height": 535
        },
        "id": "dEw8mSWAs_3d",
        "outputId": "b65d1c39-b37e-4845-8713-942421399b65"
      },
      "source": [
        "# Preço médio - atacado - arroz - longo fino agulhinha - 30 kg - SP - R$(Variável Independente) e Salário mínimo real - R$(Variável Dependente)\n",
        "\n",
        "r3 = corr3**2\n",
        "print(\"R² =\", r3, \"\\n\")\n",
        "\n",
        "(a,b) = np.polyfit(x=dfGeral['Preço médio - atacado - arroz - longo fino agulhinha - 30 kg - SP - R$'], y= dfGeral['Salário mínimo real - R$'], deg=1)\n",
        "modelo = a*dfGeral['Preço médio - atacado - arroz - longo fino agulhinha - 30 kg - SP - R$']+ b\n",
        "print(modelo)\n",
        "\n",
        "dfGeral.plot(x = 'Preço médio - atacado - arroz - longo fino agulhinha - 30 kg - SP - R$', y = 'Salário mínimo real - R$', kind = 'scatter')"
      ],
      "execution_count": null,
      "outputs": [
        {
          "output_type": "stream",
          "text": [
            "R² = 0.0025911499310047703 \n",
            "\n",
            "0      477.688357\n",
            "1      477.688342\n",
            "2      477.688325\n",
            "3      477.688324\n",
            "4      477.688296\n",
            "          ...    \n",
            "127    471.034694\n",
            "128    470.998533\n",
            "129    471.088936\n",
            "130    471.107017\n",
            "131    470.206597\n",
            "Name: Preço médio - atacado - arroz - longo fino agulhinha - 30 kg - SP - R$, Length: 132, dtype: float64\n"
          ],
          "name": "stdout"
        },
        {
          "output_type": "execute_result",
          "data": {
            "text/plain": [
              "<matplotlib.axes._subplots.AxesSubplot at 0x7fc02fe06898>"
            ]
          },
          "metadata": {
            "tags": []
          },
          "execution_count": 52
        },
        {
          "output_type": "display_data",
          "data": {
            "image/png": "[encoded data removed]",
            "text/plain": [
              "<Figure size 432x288 with 1 Axes>"
            ]
          },
          "metadata": {
            "tags": [],
            "needs_background": "light"
          }
        }
      ]
    },
    {
      "cell_type": "markdown",
      "metadata": {
        "id": "MYjibqa5t4PQ"
      },
      "source": [
        "# **Resultados e Conclusão**"
      ]
    },
    {
      "cell_type": "markdown",
      "metadata": {
        "id": "IYDxJa2rt_O1"
      },
      "source": [
        "Observando nossas várias análises referente a base de dados abordada, percebemos nitidamente que as três variáveis não acompanham um ritmo uniforme entre elas.\n",
        "\n",
        "Podemos captar também que por mais que o valor do Arroz Longo Fino Agulinha e do Óleo de Soja Refinado apenas crescem com o passar do tempo, o valor do Salário Mínimo Real, por outro lado, oscila muito crescendo e descrecendo com o passar dos meses, sendo que caiu bem mais o valor do que subiu, o que influência diretamente no dia a dia do cidadão do estado de São Paulo.\n",
        "\n",
        "Por exemplo, no primeiro mês que analisamos (01/1990) o valor do Arroz Longo Fino Agulinha e do Óleo de Soja Refinado, ambos no atacado, estavam por volta de RS 0.0001 e o valor do Salário Mínimo Real por volta RS 600.36, já no ultimo mês que analisamos (12/2000) o valor do Arroz Longo Fino Agulinha estava aproximadamente RS 20.69, do Óleo de Soja Refinado estava aproximadamente RS 18.25, ambos no atacado e do Salário Mínimo Real aproximadamente RS 506.61.\n",
        "\n",
        "Logo percebemos, que enquanto a porcentagem de decrescimo no valor do Sálario Mínimo Real é bem maior que a porcentagem de acrescimo, o valor do Arroz Longo Fino Agulinha e do Óleo de Soja Refinado apenas aumentaram, o que vem acontecendo infelizmente até hoje, dificultando muito a vida dos cidadões.\n",
        "\n",
        "O período de inflação no Brasil (1990 a 1999) influênciou diretamente esses valores e deixa cequelas até hoje. Nesse período o valor do Sálario Mínimo Real, caiu cerca de 20% (fazendo a análise a partir do primeiro e do último mês desse intervalo) enquanto o valor do Arroz Longo Fino Agulinha e do Óleo de Soja Refinado aumentaram mais de 100% (fazendo a análise a partir do primeiro e do último mês desse intervalo).\n",
        "\n",
        "Agora podemos responder nossas perguntas motivadoras. A inflação influenciou sim e muito nos valores de forma muito radical e por mais que depois do período de inflação o valor do Arroz Longo Fino Agulinha e do Óleo de Soja Refinado diminuiram limitadamente e o valor do Salario Mínimo Real aumentou limitadamente, as variáveis (variáveis 1 e 2 X variável 3) continuam sendo inversamente proporcionais e exatamente por esse motivo, analisando nossa Matriz de Correlação entre as variáveis 1 e 2 foi 0.98, o que é uma correlação muito forte e positiva, pois o par cresce junto; já a Matriz de Correlação entre as variáveis 2 e 3 e as variáveis 1 e 3 resultaram em -0.11 e -0.05, respectivamente, o que são correlações muito fracas e negativas, pois a variável dependente decresce conforme a variável independente cresce, além de serem valores muito dispersos, como já concluimos mais acima.\n",
        "\n",
        "E como foi dito na motivação, o que mais me engajou e me incentivou a escolher tais variáveis foi pensar na justiça nos valores das três variávies; será que o salário mínimo real acompanhou os acréscimos ou decrécimos nos valores dos alimentos, para ser algo justo para todos, principalmente para o cidadão do estado de São Paulo? E vemos nitidamente que nossa resposta é NÃO. Não há justiça nos valores infelizmente desde muito tempo no Brasil, como observamos analisando São Paulo que é a maior metrópole do país, e esse problema vem perpetuando até os dias atuais sem cessar.\n",
        "\n",
        "---\n",
        "\n",
        "Um ótimo projeto, onde aumentou meu olhar crítico e meu conhecimento tanto na área de Macroeconômia quanto na área da Ciência da Computação. Foi muito vantajoso desenvolver tal projeto e a satisfação é imensa.\n"
      ]
    },
    {
      "cell_type": "markdown",
      "metadata": {
        "id": "qs8BQwyWt_pX"
      },
      "source": [
        "# **Bibliografias**"
      ]
    },
    {
      "cell_type": "markdown",
      "metadata": {
        "id": "kOezElI_uDJc"
      },
      "source": [
        "- http://www.ipeadata.gov.br/Default.aspx\n",
        "\n",
        "- Notebooks em Python - Turma DC8BIS0005-15SA (Profa Ana Simões)\n",
        "\n",
        "- https://docs.google.com/spreadsheets/d/1XWKCE7WSNqJiFAIwZUgypZ_ggr8d5DyglNBfv7DjZxk/edit?usp=sharing (DataFrame utilizado com as bases de dados)\n",
        "\n"
      ]
    }
  ]
}